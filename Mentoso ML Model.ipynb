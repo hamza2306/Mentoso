{
 "cells": [
  {
   "cell_type": "code",
   "execution_count": 1,
   "id": "b9c643cf-2fe9-4c96-804a-7b263fc91c2f",
   "metadata": {},
   "outputs": [
    {
     "name": "stdout",
     "output_type": "stream",
     "text": [
      "   Number   Sleep  Appetite  Interest  Fatigue  Worthlessness  Concentration  \\\n",
      "0        1    1.0       1.0       1.0      5.0            5.0            1.0   \n",
      "1        2    2.0       5.0       5.0      1.0            1.0            5.0   \n",
      "2        3    5.0       2.0       2.0      2.0            2.0            2.0   \n",
      "3        4    1.0       1.0       1.0      5.0            5.0            1.0   \n",
      "4        5    2.0       5.0       5.0      1.0            1.0            5.0   \n",
      "\n",
      "   Agitation  Suicidal Ideation  Sleep Disturbance  Aggression  Panic Attacks  \\\n",
      "0        5.0                5.0                1.0         5.0            5.0   \n",
      "1        1.0                1.0                5.0         1.0            1.0   \n",
      "2        2.0                2.0                2.0         2.0            2.0   \n",
      "3        5.0                5.0                1.0         5.0            5.0   \n",
      "4        1.0                1.0                5.0         1.0            1.0   \n",
      "\n",
      "   Hopelessness  Restlessness  Low Energy Depression State  \n",
      "0           5.0           5.0         5.0             Mild  \n",
      "1           1.0           1.0         1.0         Moderate  \n",
      "2           2.0           2.0         2.0           Severe  \n",
      "3           5.0           5.0         5.0    No depression  \n",
      "4           1.0           1.0         1.0         Moderate  \n"
     ]
    }
   ],
   "source": [
    "# Import necessary libraries\n",
    "import pandas as pd\n",
    "import numpy as np\n",
    "from sklearn.model_selection import train_test_split\n",
    "from sklearn.preprocessing import LabelEncoder\n",
    "from sklearn.ensemble import RandomForestClassifier\n",
    "from sklearn.metrics import accuracy_score, classification_report\n",
    "import joblib\n",
    "\n",
    "# Load the dataset\n",
    "# Assuming your dataset is in a CSV file named 'depression_data.csv'\n",
    "df = pd.read_csv('Deepression.csv')\n",
    "\n",
    "# Display the first few rows of the dataframe\n",
    "print(df.head())"
   ]
  },
  {
   "cell_type": "code",
   "execution_count": 2,
   "id": "59d65449-664c-49ae-bc90-f4d3bf8c4892",
   "metadata": {},
   "outputs": [],
   "source": [
    "# Map answers to numeric values\n",
    "answer_mapping = {\n",
    "    1: 'Never', \n",
    "    2: 'Always', \n",
    "    3: 'Often', \n",
    "    4: 'Rarely', \n",
    "    5: 'Sometimes', \n",
    "    6: 'Not at all'\n",
    "}\n",
    "for col in df.columns[:-1]:  # Apply mapping to all columns except the last one (depression state)\n",
    "    df[col] = df[col].map(answer_mapping)\n"
   ]
  },
  {
   "cell_type": "code",
   "execution_count": 3,
   "id": "532e4fe7-1e21-447e-8307-510c8a45afb6",
   "metadata": {},
   "outputs": [],
   "source": [
    "# Encode categorical features as numeric\n",
    "le = LabelEncoder()\n",
    "for col in df.columns[:-1]:\n",
    "    df[col] = le.fit_transform(df[col])"
   ]
  },
  {
   "cell_type": "code",
   "execution_count": 4,
   "id": "bb551b8c-f99e-4c7b-8571-fb31a2ba4cf3",
   "metadata": {},
   "outputs": [
    {
     "name": "stdout",
     "output_type": "stream",
     "text": [
      "Number                 0\n",
      "Sleep                  0\n",
      "Appetite               0\n",
      "Interest               0\n",
      "Fatigue                0\n",
      "Worthlessness          0\n",
      "Concentration          0\n",
      "Agitation              0\n",
      "Suicidal Ideation      0\n",
      "Sleep Disturbance      0\n",
      "Aggression             0\n",
      "Panic Attacks          0\n",
      "Hopelessness           0\n",
      "Restlessness           0\n",
      "Low Energy             0\n",
      "Depression State     273\n",
      "dtype: int64\n",
      "Number               0\n",
      "Sleep                0\n",
      "Appetite             0\n",
      "Interest             0\n",
      "Fatigue              0\n",
      "Worthlessness        0\n",
      "Concentration        0\n",
      "Agitation            0\n",
      "Suicidal Ideation    0\n",
      "Sleep Disturbance    0\n",
      "Aggression           0\n",
      "Panic Attacks        0\n",
      "Hopelessness         0\n",
      "Restlessness         0\n",
      "Low Energy           0\n",
      "Depression State     0\n",
      "dtype: int64\n"
     ]
    }
   ],
   "source": [
    "# Check for missing values\n",
    "print(df.isnull().sum())\n",
    "\n",
    "# Handle missing values\n",
    "# Option 1: Fill missing values with the most frequent value in each column\n",
    "df.fillna(df.mode().iloc[0], inplace=True)\n",
    "\n",
    "# Option 2: Drop rows with missing values\n",
    "# df.dropna(inplace=True)\n",
    "\n",
    "# Verify that there are no missing values left\n",
    "print(df.isnull().sum())"
   ]
  },
  {
   "cell_type": "code",
   "execution_count": 5,
   "id": "fdddfb08-e93d-4135-8e1e-b2c2906f967a",
   "metadata": {},
   "outputs": [
    {
     "name": "stdout",
     "output_type": "stream",
     "text": [
      "Depression State\n",
      "No depression       430\n",
      "Mild                117\n",
      "Moderate            109\n",
      "Severe              108\n",
      "\\tNo depression      15\n",
      "\\tModerate           11\n",
      "\\tMild               11\n",
      "\\tSevere             10\n",
      "2\\tNo depression      1\n",
      "5\\tNo depression      1\n",
      "Name: count, dtype: int64\n"
     ]
    }
   ],
   "source": [
    "# Split the data into features and target\n",
    "X = df.iloc[:, :-1]\n",
    "y = df.iloc[:, -1]\n",
    "\n",
    "# Check the distribution of the target variable\n",
    "print(y.value_counts())\n",
    "\n",
    "\n",
    "# Split the data into training and testing sets\n",
    "X_train, X_test, y_train, y_test = train_test_split(X, y, test_size=0.2, random_state=42)\n"
   ]
  },
  {
   "cell_type": "code",
   "execution_count": 6,
   "id": "86ca8c5c-5b33-4e9f-8ee0-191842f8ba27",
   "metadata": {},
   "outputs": [
    {
     "data": {
      "text/html": [
       "<style>#sk-container-id-1 {color: black;background-color: white;}#sk-container-id-1 pre{padding: 0;}#sk-container-id-1 div.sk-toggleable {background-color: white;}#sk-container-id-1 label.sk-toggleable__label {cursor: pointer;display: block;width: 100%;margin-bottom: 0;padding: 0.3em;box-sizing: border-box;text-align: center;}#sk-container-id-1 label.sk-toggleable__label-arrow:before {content: \"▸\";float: left;margin-right: 0.25em;color: #696969;}#sk-container-id-1 label.sk-toggleable__label-arrow:hover:before {color: black;}#sk-container-id-1 div.sk-estimator:hover label.sk-toggleable__label-arrow:before {color: black;}#sk-container-id-1 div.sk-toggleable__content {max-height: 0;max-width: 0;overflow: hidden;text-align: left;background-color: #f0f8ff;}#sk-container-id-1 div.sk-toggleable__content pre {margin: 0.2em;color: black;border-radius: 0.25em;background-color: #f0f8ff;}#sk-container-id-1 input.sk-toggleable__control:checked~div.sk-toggleable__content {max-height: 200px;max-width: 100%;overflow: auto;}#sk-container-id-1 input.sk-toggleable__control:checked~label.sk-toggleable__label-arrow:before {content: \"▾\";}#sk-container-id-1 div.sk-estimator input.sk-toggleable__control:checked~label.sk-toggleable__label {background-color: #d4ebff;}#sk-container-id-1 div.sk-label input.sk-toggleable__control:checked~label.sk-toggleable__label {background-color: #d4ebff;}#sk-container-id-1 input.sk-hidden--visually {border: 0;clip: rect(1px 1px 1px 1px);clip: rect(1px, 1px, 1px, 1px);height: 1px;margin: -1px;overflow: hidden;padding: 0;position: absolute;width: 1px;}#sk-container-id-1 div.sk-estimator {font-family: monospace;background-color: #f0f8ff;border: 1px dotted black;border-radius: 0.25em;box-sizing: border-box;margin-bottom: 0.5em;}#sk-container-id-1 div.sk-estimator:hover {background-color: #d4ebff;}#sk-container-id-1 div.sk-parallel-item::after {content: \"\";width: 100%;border-bottom: 1px solid gray;flex-grow: 1;}#sk-container-id-1 div.sk-label:hover label.sk-toggleable__label {background-color: #d4ebff;}#sk-container-id-1 div.sk-serial::before {content: \"\";position: absolute;border-left: 1px solid gray;box-sizing: border-box;top: 0;bottom: 0;left: 50%;z-index: 0;}#sk-container-id-1 div.sk-serial {display: flex;flex-direction: column;align-items: center;background-color: white;padding-right: 0.2em;padding-left: 0.2em;position: relative;}#sk-container-id-1 div.sk-item {position: relative;z-index: 1;}#sk-container-id-1 div.sk-parallel {display: flex;align-items: stretch;justify-content: center;background-color: white;position: relative;}#sk-container-id-1 div.sk-item::before, #sk-container-id-1 div.sk-parallel-item::before {content: \"\";position: absolute;border-left: 1px solid gray;box-sizing: border-box;top: 0;bottom: 0;left: 50%;z-index: -1;}#sk-container-id-1 div.sk-parallel-item {display: flex;flex-direction: column;z-index: 1;position: relative;background-color: white;}#sk-container-id-1 div.sk-parallel-item:first-child::after {align-self: flex-end;width: 50%;}#sk-container-id-1 div.sk-parallel-item:last-child::after {align-self: flex-start;width: 50%;}#sk-container-id-1 div.sk-parallel-item:only-child::after {width: 0;}#sk-container-id-1 div.sk-dashed-wrapped {border: 1px dashed gray;margin: 0 0.4em 0.5em 0.4em;box-sizing: border-box;padding-bottom: 0.4em;background-color: white;}#sk-container-id-1 div.sk-label label {font-family: monospace;font-weight: bold;display: inline-block;line-height: 1.2em;}#sk-container-id-1 div.sk-label-container {text-align: center;}#sk-container-id-1 div.sk-container {/* jupyter's `normalize.less` sets `[hidden] { display: none; }` but bootstrap.min.css set `[hidden] { display: none !important; }` so we also need the `!important` here to be able to override the default hidden behavior on the sphinx rendered scikit-learn.org. See: https://github.com/scikit-learn/scikit-learn/issues/21755 */display: inline-block !important;position: relative;}#sk-container-id-1 div.sk-text-repr-fallback {display: none;}</style><div id=\"sk-container-id-1\" class=\"sk-top-container\"><div class=\"sk-text-repr-fallback\"><pre>RandomForestClassifier(class_weight=&#x27;balanced&#x27;, random_state=42)</pre><b>In a Jupyter environment, please rerun this cell to show the HTML representation or trust the notebook. <br />On GitHub, the HTML representation is unable to render, please try loading this page with nbviewer.org.</b></div><div class=\"sk-container\" hidden><div class=\"sk-item\"><div class=\"sk-estimator sk-toggleable\"><input class=\"sk-toggleable__control sk-hidden--visually\" id=\"sk-estimator-id-1\" type=\"checkbox\" checked><label for=\"sk-estimator-id-1\" class=\"sk-toggleable__label sk-toggleable__label-arrow\">RandomForestClassifier</label><div class=\"sk-toggleable__content\"><pre>RandomForestClassifier(class_weight=&#x27;balanced&#x27;, random_state=42)</pre></div></div></div></div></div>"
      ],
      "text/plain": [
       "RandomForestClassifier(class_weight='balanced', random_state=42)"
      ]
     },
     "execution_count": 6,
     "metadata": {},
     "output_type": "execute_result"
    }
   ],
   "source": [
    "# Train a RandomForestClassifier\n",
    "clf = RandomForestClassifier(n_estimators=100, random_state=42, class_weight='balanced')\n",
    "clf.fit(X_train, y_train)\n"
   ]
  },
  {
   "cell_type": "code",
   "execution_count": 7,
   "id": "a879073f-6212-4fe5-a3c8-5677395f8cea",
   "metadata": {},
   "outputs": [],
   "source": [
    "# Predict on the test set\n",
    "y_pred = clf.predict(X_test)\n"
   ]
  },
  {
   "cell_type": "code",
   "execution_count": 8,
   "id": "29e3c163-b5a4-4e0f-aa76-89dd59b3ba9b",
   "metadata": {},
   "outputs": [
    {
     "name": "stdout",
     "output_type": "stream",
     "text": [
      "Accuracy: 0.5828220858895705\n",
      "                precision    recall  f1-score   support\n",
      "\n",
      "         \tMild       0.00      0.00      0.00         2\n",
      "     \tModerate       0.00      0.00      0.00         1\n",
      "\tNo depression       0.00      0.00      0.00         3\n",
      "       \tSevere       1.00      0.00      0.00         1\n",
      "          Mild       0.50      0.17      0.25        18\n",
      "      Moderate       0.41      0.38      0.39        24\n",
      " No depression       0.97      0.75      0.85        97\n",
      "        Severe       0.43      0.59      0.50        17\n",
      "\n",
      "      accuracy                           0.58       163\n",
      "     macro avg       0.41      0.24      0.25       163\n",
      "  weighted avg       0.75      0.58      0.64       163\n",
      "\n"
     ]
    }
   ],
   "source": [
    "# Evaluate the model\n",
    "accuracy = accuracy_score(y_test, y_pred)\n",
    "print(f'Accuracy: {accuracy}')\n",
    "print(classification_report(y_test, y_pred, zero_division=1))"
   ]
  },
  {
   "cell_type": "code",
   "execution_count": 9,
   "id": "f5aeacae-7459-41c7-80d5-9c4790302ebb",
   "metadata": {},
   "outputs": [
    {
     "data": {
      "text/plain": [
       "['depression_model.pkl']"
      ]
     },
     "execution_count": 9,
     "metadata": {},
     "output_type": "execute_result"
    }
   ],
   "source": [
    "# Save the model to a file\n",
    "joblib.dump(clf, 'depression_model.pkl')"
   ]
  }
 ],
 "metadata": {
  "kernelspec": {
   "display_name": "Python 3 (ipykernel)",
   "language": "python",
   "name": "python3"
  },
  "language_info": {
   "codemirror_mode": {
    "name": "ipython",
    "version": 3
   },
   "file_extension": ".py",
   "mimetype": "text/x-python",
   "name": "python",
   "nbconvert_exporter": "python",
   "pygments_lexer": "ipython3",
   "version": "3.11.7"
  }
 },
 "nbformat": 4,
 "nbformat_minor": 5
}
